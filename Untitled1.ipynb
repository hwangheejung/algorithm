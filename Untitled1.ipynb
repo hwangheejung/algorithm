{
  "nbformat": 4,
  "nbformat_minor": 0,
  "metadata": {
    "colab": {
      "name": "Untitled1.ipynb",
      "provenance": [],
      "authorship_tag": "ABX9TyP/RCVay9UfoEnDRkZZFb67",
      "include_colab_link": true
    },
    "kernelspec": {
      "name": "python3",
      "display_name": "Python 3"
    },
    "language_info": {
      "name": "python"
    }
  },
  "cells": [
    {
      "cell_type": "markdown",
      "metadata": {
        "id": "view-in-github",
        "colab_type": "text"
      },
      "source": [
        "<a href=\"https://colab.research.google.com/github/hwangheejung/algorithm/blob/master/Untitled1.ipynb\" target=\"_parent\"><img src=\"https://colab.research.google.com/assets/colab-badge.svg\" alt=\"Open In Colab\"/></a>"
      ]
    },
    {
      "cell_type": "code",
      "metadata": {
        "colab": {
          "base_uri": "https://localhost:8080/"
        },
        "id": "ePEV__L8BO5X",
        "outputId": "7ff6fbf2-af63-4c70-921d-da8a35be75cb"
      },
      "source": [
        "license_playe=\"24가 2210\"\n",
        "slice=license_playe[-4:]\n",
        "print(slice)"
      ],
      "execution_count": 3,
      "outputs": [
        {
          "output_type": "stream",
          "name": "stdout",
          "text": [
            "2210\n"
          ]
        }
      ]
    },
    {
      "cell_type": "code",
      "metadata": {
        "colab": {
          "base_uri": "https://localhost:8080/"
        },
        "id": "NFsuYLVmBg-i",
        "outputId": "7dd702b0-f789-4ab5-8802-6926b30575dc"
      },
      "source": [
        "string=\"홀짝홀짝홀짝\"\n",
        "for i in range(len(string)):\n",
        "  if(string[i]==\"홀\"):\n",
        "    print(string[i],end=' ')"
      ],
      "execution_count": 7,
      "outputs": [
        {
          "output_type": "stream",
          "name": "stdout",
          "text": [
            "홀 홀 홀 "
          ]
        }
      ]
    },
    {
      "cell_type": "code",
      "metadata": {
        "colab": {
          "base_uri": "https://localhost:8080/"
        },
        "id": "3eTlVoEcCE7y",
        "outputId": "c3ba49e1-35c1-430f-bff7-28caa360fac6"
      },
      "source": [
        "string=\"PYTHON\"\n",
        "lenth=len(string)\n",
        "\n",
        "for i in range(lenth):\n",
        "  print(string[lenth-i-1],end=\"\")"
      ],
      "execution_count": 10,
      "outputs": [
        {
          "output_type": "stream",
          "name": "stdout",
          "text": [
            "NOHTYP"
          ]
        }
      ]
    },
    {
      "cell_type": "code",
      "metadata": {
        "colab": {
          "base_uri": "https://localhost:8080/"
        },
        "id": "NOFJJWP5CcKO",
        "outputId": "575807c7-f24a-495e-e5d2-f8c64a4bb93c"
      },
      "source": [
        "phone_number=\"010-1111-2222\"\n",
        "phonenumber=phone_number.replace(\"-\",\"\")\n",
        "print(phonenumber)"
      ],
      "execution_count": 13,
      "outputs": [
        {
          "output_type": "stream",
          "name": "stdout",
          "text": [
            "01011112222\n"
          ]
        }
      ]
    },
    {
      "cell_type": "code",
      "metadata": {
        "colab": {
          "base_uri": "https://localhost:8080/"
        },
        "id": "QG1U1adkC-Kw",
        "outputId": "e8183a00-c00a-441b-fe44-49a5ae9e5c01"
      },
      "source": [
        "string = 'abcdfe2a354a32a'\n",
        "stringreplace=string.replace(\"a\",\"A\")\n",
        "print(stringreplace)"
      ],
      "execution_count": 14,
      "outputs": [
        {
          "output_type": "stream",
          "name": "stdout",
          "text": [
            "Abcdfe2A354A32A\n"
          ]
        }
      ]
    },
    {
      "cell_type": "code",
      "metadata": {
        "colab": {
          "base_uri": "https://localhost:8080/"
        },
        "id": "n6m47pghDX0s",
        "outputId": "80a62d2a-0352-4217-d823-d6d60ad47945"
      },
      "source": [
        "print('-'*80)"
      ],
      "execution_count": 15,
      "outputs": [
        {
          "output_type": "stream",
          "name": "stdout",
          "text": [
            "--------------------------------------------------------------------------------\n"
          ]
        }
      ]
    },
    {
      "cell_type": "code",
      "metadata": {
        "colab": {
          "base_uri": "https://localhost:8080/"
        },
        "id": "ZnsAY8qjD9GI",
        "outputId": "5b340071-a61a-498c-987e-dc586c4cc1fb"
      },
      "source": [
        "t1 = 'pythoton'\n",
        "t2 = 'java'\n",
        "t=t1+\" \"+t2\n",
        "print(t*3)"
      ],
      "execution_count": 17,
      "outputs": [
        {
          "output_type": "stream",
          "name": "stdout",
          "text": [
            "pythoton javapythoton javapythoton java\n"
          ]
        }
      ]
    },
    {
      "cell_type": "code",
      "metadata": {
        "colab": {
          "base_uri": "https://localhost:8080/"
        },
        "id": "r84m9KLTERwS",
        "outputId": "d1992223-a1e1-4a29-cdac-a9c2b1bffc52"
      },
      "source": [
        "ticker = \"btc_krw\"\n",
        "ticker1=ticker.upper()\n",
        "print(ticker1)"
      ],
      "execution_count": 23,
      "outputs": [
        {
          "output_type": "stream",
          "name": "stdout",
          "text": [
            "BTC_KRW\n"
          ]
        }
      ]
    },
    {
      "cell_type": "code",
      "metadata": {
        "colab": {
          "base_uri": "https://localhost:8080/"
        },
        "id": "T4ogjiYnEkkJ",
        "outputId": "9c16e13c-762d-48d7-d2e7-5a5bfe6904aa"
      },
      "source": [
        "a=\"hello world\"\n",
        "a.split()"
      ],
      "execution_count": 24,
      "outputs": [
        {
          "output_type": "execute_result",
          "data": {
            "text/plain": [
              "['hello', 'world']"
            ]
          },
          "metadata": {},
          "execution_count": 24
        }
      ]
    },
    {
      "cell_type": "code",
      "metadata": {
        "colab": {
          "base_uri": "https://localhost:8080/"
        },
        "id": "QyuKFRWtErG_",
        "outputId": "e317b717-73e7-4e85-c3fd-32743052b75c"
      },
      "source": [
        "ticker=\"btc_krw\"\n",
        "ticker.split(\"_\")"
      ],
      "execution_count": 25,
      "outputs": [
        {
          "output_type": "execute_result",
          "data": {
            "text/plain": [
              "['btc', 'krw']"
            ]
          },
          "metadata": {},
          "execution_count": 25
        }
      ]
    },
    {
      "cell_type": "code",
      "metadata": {
        "colab": {
          "base_uri": "https://localhost:8080/"
        },
        "id": "YSOvmL64Ez4P",
        "outputId": "82c26bf5-34c6-47b2-d5a2-cb69409e3970"
      },
      "source": [
        "movie_name=[\"닥서스트레인지\",\"스플릿\",\"럭키\"]\n",
        "movie_name.append(\"배트맨\")\n",
        "movie_name.insert(1,\"슈퍼맨\")\n",
        "del movie_name[3]\n",
        "movie_name"
      ],
      "execution_count": 31,
      "outputs": [
        {
          "output_type": "execute_result",
          "data": {
            "text/plain": [
              "['닥서스트레인지', '슈퍼맨', '스플릿', '배트맨']"
            ]
          },
          "metadata": {},
          "execution_count": 31
        }
      ]
    },
    {
      "cell_type": "code",
      "metadata": {
        "colab": {
          "base_uri": "https://localhost:8080/"
        },
        "id": "N-bqhljxFcOI",
        "outputId": "0c95c1f2-6c4d-48ad-df91-4e7e6ee25bd6"
      },
      "source": [
        " lang1 = [\"C\", \"C++\", \"JAVA\"]\n",
        " lang2 = [\"Python\", \"Go\", \"C#\"]\n",
        " lang=lang1+lang2\n",
        " lang"
      ],
      "execution_count": 32,
      "outputs": [
        {
          "output_type": "execute_result",
          "data": {
            "text/plain": [
              "['C', 'C++', 'JAVA', 'Python', 'Go', 'C#']"
            ]
          },
          "metadata": {},
          "execution_count": 32
        }
      ]
    },
    {
      "cell_type": "code",
      "metadata": {
        "colab": {
          "base_uri": "https://localhost:8080/"
        },
        "id": "KL6bIRUhFj8c",
        "outputId": "753ea203-ec8c-4498-ed4f-ef351fc8649b"
      },
      "source": [
        "nums=[1,2,3,4,5]\n",
        "j=0\n",
        "for i in nums:\n",
        "  j+=i\n",
        "\n",
        "print(j)"
      ],
      "execution_count": 33,
      "outputs": [
        {
          "output_type": "stream",
          "name": "stdout",
          "text": [
            "15\n"
          ]
        }
      ]
    },
    {
      "cell_type": "code",
      "metadata": {
        "colab": {
          "base_uri": "https://localhost:8080/"
        },
        "id": "riocDY1oFuMJ",
        "outputId": "0f992271-357b-4387-94f3-7ba2a5589d34"
      },
      "source": [
        "cook = [\"피자\", \"김밥\", \"만두\", \"양념치킨\", \"족발\", \"피자\", \"김치만두\", \"쫄면\", \"소시지\", \"라면\", \"팥빙수\", \"김치전\"]\n",
        "len(cook)"
      ],
      "execution_count": 34,
      "outputs": [
        {
          "output_type": "execute_result",
          "data": {
            "text/plain": [
              "12"
            ]
          },
          "metadata": {},
          "execution_count": 34
        }
      ]
    },
    {
      "cell_type": "code",
      "metadata": {
        "colab": {
          "base_uri": "https://localhost:8080/"
        },
        "id": "ko_x_Q5kGOZa",
        "outputId": "545771fb-a9ef-4ecd-b5ad-beb0b8b93ae5"
      },
      "source": [
        "price = ['20180728', 100, 130, 140, 150, 160, 170]\n",
        "print(price[1:])"
      ],
      "execution_count": 35,
      "outputs": [
        {
          "output_type": "stream",
          "name": "stdout",
          "text": [
            "[100, 130, 140, 150, 160, 170]\n"
          ]
        }
      ]
    },
    {
      "cell_type": "code",
      "metadata": {
        "colab": {
          "base_uri": "https://localhost:8080/"
        },
        "id": "33Gt8-2pGVxn",
        "outputId": "b1bc7645-da4d-410b-91ba-dacb707da26f"
      },
      "source": [
        "nums = [1, 2, 3, 4, 5, 6, 7, 8, 9, 10]\n",
        "print(nums[::2])"
      ],
      "execution_count": 36,
      "outputs": [
        {
          "output_type": "stream",
          "name": "stdout",
          "text": [
            "[1, 3, 5, 7, 9]\n"
          ]
        }
      ]
    },
    {
      "cell_type": "code",
      "metadata": {
        "colab": {
          "base_uri": "https://localhost:8080/"
        },
        "id": "N6bdNUu3Gjjn",
        "outputId": "db51d7f2-853d-47d4-d64d-4e279ee03e84"
      },
      "source": [
        "nums = [1, 2, 3, 4, 5, 6, 7, 8, 9, 10]\n",
        "print(nums[::-1])"
      ],
      "execution_count": 45,
      "outputs": [
        {
          "output_type": "stream",
          "name": "stdout",
          "text": [
            "[10, 9, 8, 7, 6, 5, 4, 3, 2, 1]\n"
          ]
        }
      ]
    },
    {
      "cell_type": "code",
      "metadata": {
        "colab": {
          "base_uri": "https://localhost:8080/"
        },
        "id": "TQ8oYJqLHEwO",
        "outputId": "7a5f9d09-6bba-4191-b77b-5084301c1f96"
      },
      "source": [
        "interest = ['삼성전자', 'LG전자', 'Naver', 'SK하이닉스', '미래에셋대우']\n",
        "print(\"\\n\".join(interest))\n"
      ],
      "execution_count": 49,
      "outputs": [
        {
          "output_type": "stream",
          "name": "stdout",
          "text": [
            "삼성전자\n",
            "LG전자\n",
            "Naver\n",
            "SK하이닉스\n",
            "미래에셋대우\n"
          ]
        }
      ]
    },
    {
      "cell_type": "code",
      "metadata": {
        "colab": {
          "base_uri": "https://localhost:8080/"
        },
        "id": "6uegh3rrHhB3",
        "outputId": "ed72442f-f740-4ea3-97ee-1873684e9530"
      },
      "source": [
        "string=\"삼성전자/LG전자/Naver\"\n",
        "interest=string.split(\"/\")\n",
        "interest"
      ],
      "execution_count": 52,
      "outputs": [
        {
          "output_type": "execute_result",
          "data": {
            "text/plain": [
              "['삼성전자', 'LG전자', 'Naver']"
            ]
          },
          "metadata": {},
          "execution_count": 52
        }
      ]
    },
    {
      "cell_type": "code",
      "metadata": {
        "colab": {
          "base_uri": "https://localhost:8080/"
        },
        "id": "DPo8aiUPHuDJ",
        "outputId": "c9ca58df-9161-4190-b693-f6ce3a5d343d"
      },
      "source": [
        "data = [2, 4, 3, 1, 5, 10, 9]\n",
        "data.sort(reverse=True)\n",
        "data"
      ],
      "execution_count": 55,
      "outputs": [
        {
          "output_type": "execute_result",
          "data": {
            "text/plain": [
              "[10, 9, 5, 4, 3, 2, 1]"
            ]
          },
          "metadata": {},
          "execution_count": 55
        }
      ]
    },
    {
      "cell_type": "code",
      "metadata": {
        "colab": {
          "base_uri": "https://localhost:8080/"
        },
        "id": "zyE5HKpIIQx6",
        "outputId": "89252152-76bf-4500-c85f-78c9e0d8733b"
      },
      "source": [
        "t1=(\"닥터스트레인지\",\"스플릿\",\"럭키\")\n",
        "t1"
      ],
      "execution_count": 57,
      "outputs": [
        {
          "output_type": "execute_result",
          "data": {
            "text/plain": [
              "('닥터스트레인지', '스플릿', '럭키')"
            ]
          },
          "metadata": {},
          "execution_count": 57
        }
      ]
    },
    {
      "cell_type": "code",
      "metadata": {
        "colab": {
          "base_uri": "https://localhost:8080/"
        },
        "id": "_NxQbxrJId2c",
        "outputId": "afaa4fac-e897-4414-b5c3-302ca03bb99e"
      },
      "source": [
        "interest = ('삼성전자', 'LG전자', 'SK Hynix')\n",
        "li=list(interest)\n",
        "li"
      ],
      "execution_count": 58,
      "outputs": [
        {
          "output_type": "execute_result",
          "data": {
            "text/plain": [
              "['삼성전자', 'LG전자', 'SK Hynix']"
            ]
          },
          "metadata": {},
          "execution_count": 58
        }
      ]
    },
    {
      "cell_type": "code",
      "metadata": {
        "colab": {
          "base_uri": "https://localhost:8080/"
        },
        "id": "FyirxE4AIjSQ",
        "outputId": "c70ccc84-61a5-42e0-e84f-3de9196def4a"
      },
      "source": [
        "interest = ['삼성전자', 'LG전자', 'SK Hynix']\n",
        "li=tuple(interest)\n",
        "li"
      ],
      "execution_count": 59,
      "outputs": [
        {
          "output_type": "execute_result",
          "data": {
            "text/plain": [
              "('삼성전자', 'LG전자', 'SK Hynix')"
            ]
          },
          "metadata": {},
          "execution_count": 59
        }
      ]
    },
    {
      "cell_type": "code",
      "metadata": {
        "colab": {
          "base_uri": "https://localhost:8080/"
        },
        "id": "SSsHw0WlIrXk",
        "outputId": "da4a168a-e440-4aca-f332-34706937eed8"
      },
      "source": [
        "t=tuple(range(2,99,2))\n",
        "print(t,end='')"
      ],
      "execution_count": 62,
      "outputs": [
        {
          "output_type": "stream",
          "name": "stdout",
          "text": [
            "(2, 4, 6, 8, 10, 12, 14, 16, 18, 20, 22, 24, 26, 28, 30, 32, 34, 36, 38, 40, 42, 44, 46, 48, 50, 52, 54, 56, 58, 60, 62, 64, 66, 68, 70, 72, 74, 76, 78, 80, 82, 84, 86, 88, 90, 92, 94, 96, 98)"
          ]
        }
      ]
    },
    {
      "cell_type": "code",
      "metadata": {
        "colab": {
          "base_uri": "https://localhost:8080/"
        },
        "id": "K6CzraGpJRsV",
        "outputId": "78286157-1536-4b3e-b938-8ce13ebb8fee"
      },
      "source": [
        "icream={\"메로나\":1000,\"폴라포\":1200,\"빵빠레\":1800}\n",
        "icream[\"죠스바\"]=1200\n",
        "icream[\"월드콘\"]=1500\n",
        "icream[\"메로나\"]=1300\n",
        "del icream[\"메로나\"]\n",
        "print(icream)"
      ],
      "execution_count": 71,
      "outputs": [
        {
          "output_type": "stream",
          "name": "stdout",
          "text": [
            "{'폴라포': 1200, '빵빠레': 1800, '죠스바': 1200, '월드콘': 1500}\n"
          ]
        }
      ]
    },
    {
      "cell_type": "code",
      "metadata": {
        "colab": {
          "base_uri": "https://localhost:8080/"
        },
        "id": "voROZv0hKnuH",
        "outputId": "cbf31df0-0154-4cf1-f8dd-149efe6f070e"
      },
      "source": [
        "inventory={\"메로나\":[300,20],\"비비빅\":[400,3],\"죠스바\":[250,30]}\n",
        "inventory[\"월드콘\"]=[500,7]\n",
        "inventory"
      ],
      "execution_count": 78,
      "outputs": [
        {
          "output_type": "execute_result",
          "data": {
            "text/plain": [
              "{'메로나': [300, 20], '비비빅': [400, 3], '월드콘': [500, 7], '죠스바': [250, 30]}"
            ]
          },
          "metadata": {},
          "execution_count": 78
        }
      ]
    },
    {
      "cell_type": "code",
      "metadata": {
        "id": "Ts_w9XCpKoQJ"
      },
      "source": [
        ""
      ],
      "execution_count": null,
      "outputs": []
    }
  ]
}